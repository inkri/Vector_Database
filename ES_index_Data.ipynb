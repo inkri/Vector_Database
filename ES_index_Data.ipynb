{
 "cells": [
  {
   "cell_type": "markdown",
   "metadata": {},
   "source": [
    "# 1. Start Elasticsearch Server"
   ]
  },
  {
   "cell_type": "code",
   "execution_count": null,
   "metadata": {},
   "outputs": [],
   "source": [
    "#Execute elasticsearch.bat file under elasticsearch-8.13.4\\bin"
   ]
  },
  {
   "cell_type": "code",
   "execution_count": 4,
   "metadata": {},
   "outputs": [],
   "source": [
    "#Installing and Downloading Elasticsearch\n",
    "#Download: https://www.elastic.co/downloads/elasticsearch\n",
    "\n",
    "#Open cmd:\n",
    "#C:\\Users\\Abhishek_Jaiswal>cd C:\\Users\\Abhishek_Jaiswal\\Downloads\\elasticsearch-8.13.4\\bin\n",
    "#C:\\Users\\Abhishek_Jaiswal\\Downloads\\elasticsearch-8.13.4\\bin>elasticsearch\n",
    "#or \n",
    "#run elasticsearch.bat file under bin.\n",
    "\n",
    "#https://localhost:9200/\n",
    "#username: elastic\n",
    "#password: vfkWRFChlFKFBDPz*0y8\n",
    "\n",
    "#Learning:\n",
    "#Link:https://www.youtube.com/watch?v=K-BBol9hQ54"
   ]
  },
  {
   "cell_type": "markdown",
   "metadata": {},
   "source": [
    "# 2. Reading Data and Embedding Creation"
   ]
  },
  {
   "cell_type": "markdown",
   "metadata": {},
   "source": [
    "## Prepare the data"
   ]
  },
  {
   "cell_type": "code",
   "execution_count": 5,
   "metadata": {},
   "outputs": [
    {
     "data": {
      "text/html": [
       "<div>\n",
       "<style scoped>\n",
       "    .dataframe tbody tr th:only-of-type {\n",
       "        vertical-align: middle;\n",
       "    }\n",
       "\n",
       "    .dataframe tbody tr th {\n",
       "        vertical-align: top;\n",
       "    }\n",
       "\n",
       "    .dataframe thead th {\n",
       "        text-align: right;\n",
       "    }\n",
       "</style>\n",
       "<table border=\"1\" class=\"dataframe\">\n",
       "  <thead>\n",
       "    <tr style=\"text-align: right;\">\n",
       "      <th></th>\n",
       "      <th>ProductID</th>\n",
       "      <th>ProductName</th>\n",
       "      <th>ProductBrand</th>\n",
       "      <th>Gender</th>\n",
       "      <th>Price (INR)</th>\n",
       "      <th>NumImages</th>\n",
       "      <th>Description</th>\n",
       "      <th>PrimaryColor</th>\n",
       "    </tr>\n",
       "  </thead>\n",
       "  <tbody>\n",
       "    <tr>\n",
       "      <th>0</th>\n",
       "      <td>10017413</td>\n",
       "      <td>DKNY Unisex Black &amp; Grey Printed Medium Trolle...</td>\n",
       "      <td>DKNY</td>\n",
       "      <td>Unisex</td>\n",
       "      <td>11745</td>\n",
       "      <td>7</td>\n",
       "      <td>Black and grey printed medium trolley bag, sec...</td>\n",
       "      <td>Black</td>\n",
       "    </tr>\n",
       "    <tr>\n",
       "      <th>1</th>\n",
       "      <td>10016283</td>\n",
       "      <td>EthnoVogue Women Beige &amp; Grey Made to Measure ...</td>\n",
       "      <td>EthnoVogue</td>\n",
       "      <td>Women</td>\n",
       "      <td>5810</td>\n",
       "      <td>7</td>\n",
       "      <td>Beige &amp; Grey made to measure kurta with churid...</td>\n",
       "      <td>Beige</td>\n",
       "    </tr>\n",
       "  </tbody>\n",
       "</table>\n",
       "</div>"
      ],
      "text/plain": [
       "   ProductID                                        ProductName ProductBrand  \\\n",
       "0   10017413  DKNY Unisex Black & Grey Printed Medium Trolle...         DKNY   \n",
       "1   10016283  EthnoVogue Women Beige & Grey Made to Measure ...   EthnoVogue   \n",
       "\n",
       "   Gender  Price (INR)  NumImages  \\\n",
       "0  Unisex        11745          7   \n",
       "1   Women         5810          7   \n",
       "\n",
       "                                         Description PrimaryColor  \n",
       "0  Black and grey printed medium trolley bag, sec...        Black  \n",
       "1  Beige & Grey made to measure kurta with churid...        Beige  "
      ]
     },
     "execution_count": 5,
     "metadata": {},
     "output_type": "execute_result"
    }
   ],
   "source": [
    "import pandas as pd\n",
    "df = pd.read_csv(\"myntra_products_catalog.csv\").loc[:499]\n",
    "df.head(2)"
   ]
  },
  {
   "cell_type": "code",
   "execution_count": 6,
   "metadata": {},
   "outputs": [
    {
     "data": {
      "text/plain": [
       "ProductID  ProductName  ProductBrand  Gender  Price (INR)  NumImages  Description  PrimaryColor\n",
       "False      False        False         False   False        False      False        False           468\n",
       "                                                                                   True             32\n",
       "Name: count, dtype: int64"
      ]
     },
     "execution_count": 6,
     "metadata": {},
     "output_type": "execute_result"
    }
   ],
   "source": [
    "df.isna().value_counts()"
   ]
  },
  {
   "cell_type": "code",
   "execution_count": 7,
   "metadata": {},
   "outputs": [],
   "source": [
    "df.fillna(\"None\", inplace=True)"
   ]
  },
  {
   "cell_type": "markdown",
   "metadata": {},
   "source": [
    "## Convert the relevant field to Vector using BERT model"
   ]
  },
  {
   "cell_type": "code",
   "execution_count": 17,
   "metadata": {},
   "outputs": [],
   "source": [
    "# Embeddings\n",
    "#https://www.sbert.net/docs/sentence_transformer/pretrained_models.html"
   ]
  },
  {
   "cell_type": "code",
   "execution_count": 8,
   "metadata": {},
   "outputs": [],
   "source": [
    "from sentence_transformers import SentenceTransformer\n",
    "model = SentenceTransformer('all-mpnet-base-v2')"
   ]
  },
  {
   "cell_type": "code",
   "execution_count": 9,
   "metadata": {},
   "outputs": [],
   "source": [
    "df[\"DescriptionVector\"] = df[\"Description\"].apply(lambda x: model.encode(x))"
   ]
  },
  {
   "cell_type": "code",
   "execution_count": 14,
   "metadata": {},
   "outputs": [
    {
     "name": "stdout",
     "output_type": "stream",
     "text": [
      "Shape:  (500, 9)\n"
     ]
    },
    {
     "data": {
      "text/html": [
       "<div>\n",
       "<style scoped>\n",
       "    .dataframe tbody tr th:only-of-type {\n",
       "        vertical-align: middle;\n",
       "    }\n",
       "\n",
       "    .dataframe tbody tr th {\n",
       "        vertical-align: top;\n",
       "    }\n",
       "\n",
       "    .dataframe thead th {\n",
       "        text-align: right;\n",
       "    }\n",
       "</style>\n",
       "<table border=\"1\" class=\"dataframe\">\n",
       "  <thead>\n",
       "    <tr style=\"text-align: right;\">\n",
       "      <th></th>\n",
       "      <th>ProductID</th>\n",
       "      <th>ProductName</th>\n",
       "      <th>ProductBrand</th>\n",
       "      <th>Gender</th>\n",
       "      <th>Price (INR)</th>\n",
       "      <th>NumImages</th>\n",
       "      <th>Description</th>\n",
       "      <th>PrimaryColor</th>\n",
       "      <th>DescriptionVector</th>\n",
       "    </tr>\n",
       "  </thead>\n",
       "  <tbody>\n",
       "    <tr>\n",
       "      <th>0</th>\n",
       "      <td>10017413</td>\n",
       "      <td>DKNY Unisex Black &amp; Grey Printed Medium Trolle...</td>\n",
       "      <td>DKNY</td>\n",
       "      <td>Unisex</td>\n",
       "      <td>11745</td>\n",
       "      <td>7</td>\n",
       "      <td>Black and grey printed medium trolley bag, sec...</td>\n",
       "      <td>Black</td>\n",
       "      <td>[0.027645793, -0.0026342259, -0.0035884194, 0....</td>\n",
       "    </tr>\n",
       "    <tr>\n",
       "      <th>1</th>\n",
       "      <td>10016283</td>\n",
       "      <td>EthnoVogue Women Beige &amp; Grey Made to Measure ...</td>\n",
       "      <td>EthnoVogue</td>\n",
       "      <td>Women</td>\n",
       "      <td>5810</td>\n",
       "      <td>7</td>\n",
       "      <td>Beige &amp; Grey made to measure kurta with churid...</td>\n",
       "      <td>Beige</td>\n",
       "      <td>[-0.02466072, -0.02875537, -0.020332465, 0.034...</td>\n",
       "    </tr>\n",
       "  </tbody>\n",
       "</table>\n",
       "</div>"
      ],
      "text/plain": [
       "   ProductID                                        ProductName ProductBrand  \\\n",
       "0   10017413  DKNY Unisex Black & Grey Printed Medium Trolle...         DKNY   \n",
       "1   10016283  EthnoVogue Women Beige & Grey Made to Measure ...   EthnoVogue   \n",
       "\n",
       "   Gender  Price (INR)  NumImages  \\\n",
       "0  Unisex        11745          7   \n",
       "1   Women         5810          7   \n",
       "\n",
       "                                         Description PrimaryColor  \\\n",
       "0  Black and grey printed medium trolley bag, sec...        Black   \n",
       "1  Beige & Grey made to measure kurta with churid...        Beige   \n",
       "\n",
       "                                   DescriptionVector  \n",
       "0  [0.027645793, -0.0026342259, -0.0035884194, 0....  \n",
       "1  [-0.02466072, -0.02875537, -0.020332465, 0.034...  "
      ]
     },
     "execution_count": 14,
     "metadata": {},
     "output_type": "execute_result"
    }
   ],
   "source": [
    "print(\"Shape: \",df.shape)\n",
    "df.head(2)"
   ]
  },
  {
   "cell_type": "markdown",
   "metadata": {},
   "source": [
    "# 3. Enabling VD"
   ]
  },
  {
   "cell_type": "code",
   "execution_count": 15,
   "metadata": {},
   "outputs": [
    {
     "data": {
      "text/plain": [
       "True"
      ]
     },
     "execution_count": 15,
     "metadata": {},
     "output_type": "execute_result"
    }
   ],
   "source": [
    "from elasticsearch import Elasticsearch\n",
    "es = Elasticsearch(\n",
    "    \"https://localhost:9200\",\n",
    "    basic_auth=(\"elastic\",\"vfkWRFChlFKFBDPz*0y8\"),\n",
    "    ca_certs=\"C:/Users/Abhishek_Jaiswal/Downloads/elasticsearch-8.13.4/config/certs/http_ca.crt\"\n",
    ")\n",
    "es.ping()"
   ]
  },
  {
   "cell_type": "code",
   "execution_count": 16,
   "metadata": {},
   "outputs": [
    {
     "data": {
      "text/html": [
       "<div>\n",
       "<style scoped>\n",
       "    .dataframe tbody tr th:only-of-type {\n",
       "        vertical-align: middle;\n",
       "    }\n",
       "\n",
       "    .dataframe tbody tr th {\n",
       "        vertical-align: top;\n",
       "    }\n",
       "\n",
       "    .dataframe thead th {\n",
       "        text-align: right;\n",
       "    }\n",
       "</style>\n",
       "<table border=\"1\" class=\"dataframe\">\n",
       "  <thead>\n",
       "    <tr style=\"text-align: right;\">\n",
       "      <th></th>\n",
       "      <th>ProductID</th>\n",
       "      <th>ProductName</th>\n",
       "      <th>ProductBrand</th>\n",
       "      <th>Gender</th>\n",
       "      <th>Price (INR)</th>\n",
       "      <th>NumImages</th>\n",
       "      <th>Description</th>\n",
       "      <th>PrimaryColor</th>\n",
       "      <th>DescriptionVector</th>\n",
       "    </tr>\n",
       "  </thead>\n",
       "  <tbody>\n",
       "    <tr>\n",
       "      <th>0</th>\n",
       "      <td>10017413</td>\n",
       "      <td>DKNY Unisex Black &amp; Grey Printed Medium Trolle...</td>\n",
       "      <td>DKNY</td>\n",
       "      <td>Unisex</td>\n",
       "      <td>11745</td>\n",
       "      <td>7</td>\n",
       "      <td>Black and grey printed medium trolley bag, sec...</td>\n",
       "      <td>Black</td>\n",
       "      <td>[0.027645793, -0.0026342259, -0.0035884194, 0....</td>\n",
       "    </tr>\n",
       "    <tr>\n",
       "      <th>1</th>\n",
       "      <td>10016283</td>\n",
       "      <td>EthnoVogue Women Beige &amp; Grey Made to Measure ...</td>\n",
       "      <td>EthnoVogue</td>\n",
       "      <td>Women</td>\n",
       "      <td>5810</td>\n",
       "      <td>7</td>\n",
       "      <td>Beige &amp; Grey made to measure kurta with churid...</td>\n",
       "      <td>Beige</td>\n",
       "      <td>[-0.02466072, -0.02875537, -0.020332465, 0.034...</td>\n",
       "    </tr>\n",
       "  </tbody>\n",
       "</table>\n",
       "</div>"
      ],
      "text/plain": [
       "   ProductID                                        ProductName ProductBrand  \\\n",
       "0   10017413  DKNY Unisex Black & Grey Printed Medium Trolle...         DKNY   \n",
       "1   10016283  EthnoVogue Women Beige & Grey Made to Measure ...   EthnoVogue   \n",
       "\n",
       "   Gender  Price (INR)  NumImages  \\\n",
       "0  Unisex        11745          7   \n",
       "1   Women         5810          7   \n",
       "\n",
       "                                         Description PrimaryColor  \\\n",
       "0  Black and grey printed medium trolley bag, sec...        Black   \n",
       "1  Beige & Grey made to measure kurta with churid...        Beige   \n",
       "\n",
       "                                   DescriptionVector  \n",
       "0  [0.027645793, -0.0026342259, -0.0035884194, 0....  \n",
       "1  [-0.02466072, -0.02875537, -0.020332465, 0.034...  "
      ]
     },
     "execution_count": 16,
     "metadata": {},
     "output_type": "execute_result"
    }
   ],
   "source": [
    "df.head(2)"
   ]
  },
  {
   "cell_type": "markdown",
   "metadata": {},
   "source": [
    "## Create new index in ElasticSearch!"
   ]
  },
  {
   "cell_type": "code",
   "execution_count": 18,
   "metadata": {},
   "outputs": [],
   "source": [
    "indexMapping = {\n",
    "    \"properties\":{\n",
    "        \"ProductID\":{\n",
    "            \"type\":\"long\"\n",
    "        },\n",
    "        \"ProductName\":{\n",
    "            \"type\":\"text\"\n",
    "        },\n",
    "        \"ProductBrand\":{\n",
    "            \"type\":\"text\"\n",
    "        },\n",
    "        \"Gender\":{\n",
    "            \"type\":\"text\"\n",
    "        },\n",
    "        \"Price (INR)\":{\n",
    "            \"type\":\"long\"\n",
    "        },\n",
    "        \"NumImages\":{\n",
    "            \"type\":\"long\"\n",
    "        },\n",
    "        \"Description\":{\n",
    "            \"type\":\"text\"\n",
    "        },\n",
    "        \"PrimaryColor\":{\n",
    "            \"type\":\"text\"\n",
    "        },\n",
    "        \"DescriptionVector\":{\n",
    "            \"type\":\"dense_vector\",\n",
    "            \"dims\": 768,\n",
    "            \"index\":True,\n",
    "            \"similarity\": \"l2_norm\" #similarity calculations\n",
    "        }\n",
    "\n",
    "    }\n",
    "}"
   ]
  },
  {
   "cell_type": "markdown",
   "metadata": {},
   "source": [
    "## similarity calculations type\n",
    "## L2 Norm (Euclidean Distance): Best when vector magnitude matters.\n",
    "## Cosine Similarity: Focuses on the angle between vectors, useful for text or embeddings.\n",
    "## Dot Product: Projects one vector onto another, useful when vectors are normalized.\n",
    "## L1 Norm (Manhattan Distance): Uniform treatment of dimension differences, good for sparse data.\n",
    "## Jaccard Similarity: Measures the overlap between sets.\n",
    "## Hamming Distance: Counts differing bits between binary strings."
   ]
  },
  {
   "cell_type": "code",
   "execution_count": 20,
   "metadata": {},
   "outputs": [
    {
     "data": {
      "text/plain": [
       "ObjectApiResponse({'acknowledged': True, 'shards_acknowledged': True, 'index': 'all_products_2'})"
      ]
     },
     "execution_count": 20,
     "metadata": {},
     "output_type": "execute_result"
    }
   ],
   "source": [
    "from indexMapping import indexMapping\n",
    "\n",
    "es.indices.create(index=\"all_products_2\", mappings=indexMapping)"
   ]
  },
  {
   "cell_type": "markdown",
   "metadata": {},
   "source": [
    "## Ingest the data into index"
   ]
  },
  {
   "cell_type": "code",
   "execution_count": 21,
   "metadata": {},
   "outputs": [
    {
     "data": {
      "text/plain": [
       "{'ProductID': 10017413,\n",
       " 'ProductName': 'DKNY Unisex Black & Grey Printed Medium Trolley Bag',\n",
       " 'ProductBrand': 'DKNY',\n",
       " 'Gender': 'Unisex',\n",
       " 'Price (INR)': 11745,\n",
       " 'NumImages': 7,\n",
       " 'Description': 'Black and grey printed medium trolley bag, secured with a TSA lockOne handle on the top and one on the side, has a trolley with a retractable handle on the top and four corner mounted inline skate wheelsOne main zip compartment, zip lining, two compression straps with click clasps, one zip compartment on the flap with three zip pocketsWarranty: 5 yearsWarranty provided by Brand Owner / Manufacturer',\n",
       " 'PrimaryColor': ' Black',\n",
       " 'DescriptionVector': array([ 2.76457928e-02, -2.63422588e-03, -3.58841941e-03,  5.13588227e-02,\n",
       "         3.09660714e-02,  1.40506746e-02,  7.27058807e-03,  3.13871130e-02,\n",
       "        -6.23787493e-02, -3.82873393e-03,  3.15214060e-02,  7.55473003e-02,\n",
       "         2.12639500e-03,  4.64893542e-02,  5.07448688e-02, -1.71942487e-02,\n",
       "         1.22891450e-02, -1.95682421e-02, -9.64853689e-02,  3.52682173e-03,\n",
       "        -1.83509365e-02,  2.58225426e-02, -3.12243719e-02,  5.46113364e-02,\n",
       "         2.11240817e-02,  8.97160824e-03,  1.99166909e-02,  2.25222502e-02,\n",
       "         5.33216493e-03, -5.24597317e-02,  2.56655402e-02, -2.64643803e-02,\n",
       "         1.60459187e-02, -2.47584116e-02,  1.45433410e-06, -5.99339046e-02,\n",
       "        -4.21298370e-02, -5.82059100e-03, -1.85586587e-02, -6.88409358e-02,\n",
       "         4.52963226e-02,  7.06149591e-03,  3.00954767e-02, -7.18990937e-02,\n",
       "         2.67853122e-02, -6.78084046e-02,  1.52006811e-02,  7.82433897e-02,\n",
       "        -3.86550166e-02, -1.53426789e-02,  3.39755751e-02,  1.37782013e-02,\n",
       "        -1.47242863e-02, -2.74832151e-03,  2.31591538e-02, -4.98685986e-02,\n",
       "        -5.12828771e-03,  5.24752140e-02,  1.36130508e-02, -1.93231199e-02,\n",
       "        -2.72569880e-02,  4.11068536e-02,  4.80893366e-02, -2.70954147e-02,\n",
       "         4.11908329e-02,  4.60447706e-02, -6.37176931e-02,  1.31805185e-02,\n",
       "         1.30294636e-03,  4.09116708e-02,  6.41553029e-02, -4.79832962e-02,\n",
       "         1.10395649e-03,  7.25233406e-02, -7.42428892e-05,  2.57207104e-03,\n",
       "         2.96355020e-02,  2.96353381e-02,  1.66539960e-02,  1.16769765e-02,\n",
       "        -4.72042449e-02,  6.52725920e-02, -5.69467507e-02,  5.62868342e-02,\n",
       "         2.87739336e-02,  3.27831171e-02,  2.21507587e-02,  2.87625529e-02,\n",
       "         9.41021834e-03, -2.78682299e-02,  5.07250708e-03, -1.35145299e-02,\n",
       "         2.92993914e-02,  1.73486508e-02, -7.76376389e-03, -8.01694691e-02,\n",
       "         5.42523377e-02, -5.81911728e-02,  3.02955415e-02, -2.88303811e-02,\n",
       "         1.04824817e-02,  4.99632135e-02, -1.98193174e-02,  2.69683171e-03,\n",
       "        -5.78302937e-03,  3.49554159e-02, -1.04185147e-02, -1.53062528e-03,\n",
       "        -8.06272104e-02,  3.73889804e-02,  2.62705050e-02, -2.40432844e-02,\n",
       "        -4.65659723e-02,  3.46576460e-02, -3.50580029e-02,  2.76909396e-02,\n",
       "        -1.99476611e-02,  2.66634375e-02,  3.83039191e-02, -3.57968896e-03,\n",
       "        -1.11199338e-02, -3.43021117e-02, -5.00614829e-02, -2.43407232e-03,\n",
       "         2.01844107e-02, -4.51827981e-02, -4.48808335e-02, -4.15880196e-02,\n",
       "        -1.21018318e-02,  4.56553288e-02, -4.09716778e-02,  3.33761908e-02,\n",
       "         4.05119434e-02, -1.42122526e-02, -2.18980741e-02,  2.38487795e-02,\n",
       "        -3.59017514e-02, -3.51187065e-02, -5.59867695e-02, -2.04212423e-02,\n",
       "        -1.90287817e-03, -2.63332613e-02,  6.62028324e-03,  2.82201562e-02,\n",
       "        -3.89377922e-02, -3.85373272e-02,  3.99999060e-02,  3.73889762e-03,\n",
       "        -3.34510654e-02, -6.12203144e-02, -7.10494146e-02,  1.82613768e-02,\n",
       "         4.99361306e-02, -1.96537860e-02,  3.62079926e-02,  1.36304349e-02,\n",
       "         3.72649617e-02, -1.86512284e-02, -2.54692920e-02,  1.35053759e-02,\n",
       "         2.56374758e-02, -2.38314774e-02, -2.21330225e-02,  2.39099399e-03,\n",
       "        -5.98022453e-02, -2.13336069e-02, -9.58661735e-03, -6.31964207e-03,\n",
       "        -3.08500454e-02, -1.75865181e-02, -1.89545751e-02, -3.34730111e-02,\n",
       "        -2.12755823e-03, -3.45620187e-03, -1.71547756e-02,  7.40247890e-02,\n",
       "         3.30877234e-03, -5.94481155e-02, -4.20914777e-02, -4.85312566e-03,\n",
       "        -1.24045042e-02, -1.11631289e-01,  5.64271621e-02, -7.50045618e-03,\n",
       "        -2.17735441e-03, -8.79486743e-03, -5.20496769e-03,  2.68770359e-03,\n",
       "        -1.67977195e-02, -6.23679869e-02,  3.14838067e-02, -3.52155380e-02,\n",
       "         8.10610428e-02,  3.64168026e-02,  9.73900140e-04, -3.69659178e-02,\n",
       "         2.52878456e-03, -7.46889859e-02,  8.42563342e-03, -1.65019650e-02,\n",
       "        -7.72046000e-02, -1.85622461e-02,  5.66538703e-03, -1.47190839e-02,\n",
       "        -1.65353417e-02,  4.13801000e-02, -2.33763792e-02,  9.86003317e-03,\n",
       "        -5.00025898e-02,  4.48241178e-03,  3.75415646e-02,  2.56805327e-02,\n",
       "        -2.02900451e-03, -5.84916063e-02, -1.47917531e-02, -1.84911222e-03,\n",
       "         2.87932344e-02, -2.44094264e-02,  1.05893398e-02,  4.51088212e-02,\n",
       "         6.12144619e-02,  1.33142816e-02,  5.87450303e-02, -1.59004088e-02,\n",
       "         4.00181226e-02,  1.64473988e-02,  1.43469675e-02, -2.68045515e-02,\n",
       "         7.16699585e-02,  8.84749461e-03, -6.41271099e-03,  1.15752220e-03,\n",
       "        -3.68434116e-02,  2.93019991e-02, -3.14094089e-02, -6.79301471e-03,\n",
       "         8.94473046e-02,  5.99376485e-02, -8.24589841e-03,  2.58783139e-02,\n",
       "        -4.22716290e-02,  1.91916209e-02,  2.88778072e-04,  4.13907832e-03,\n",
       "        -5.83746806e-02,  6.08170964e-02, -3.75354588e-02, -3.70272808e-02,\n",
       "        -6.11730292e-03, -1.42939137e-02, -8.24468862e-03,  1.60579255e-03,\n",
       "         3.51404361e-02, -1.88068040e-02, -2.16341820e-02, -5.51069193e-02,\n",
       "        -5.03749028e-03,  3.81738544e-02,  2.06449293e-02,  2.99773482e-03,\n",
       "         2.01757271e-02, -8.43660533e-03,  3.04716779e-03, -2.86363089e-03,\n",
       "         5.25487214e-02,  1.00489729e-03,  5.10405041e-02,  9.56335384e-03,\n",
       "         1.99479703e-02, -3.06443553e-02, -6.84506493e-03, -1.10092405e-02,\n",
       "         1.72650460e-02, -9.95548163e-03, -1.40040852e-02, -4.78949174e-02,\n",
       "         4.48318273e-02,  2.99811061e-03, -5.05879149e-03, -1.37886768e-02,\n",
       "        -1.93421561e-02, -2.25321297e-02, -4.01583314e-02, -2.50679851e-02,\n",
       "        -1.73990317e-02,  7.81950355e-03, -4.38656583e-02,  1.10517638e-02,\n",
       "        -5.72636584e-03,  2.99920253e-02, -4.39988635e-02, -4.39047784e-04,\n",
       "        -6.25555916e-03, -3.10895517e-02,  1.94589254e-02, -2.74247602e-02,\n",
       "        -9.93117131e-03, -4.21830304e-02,  2.52596829e-02,  2.97782533e-02,\n",
       "         4.61615715e-03, -3.88785526e-02, -3.68001573e-02,  8.19746312e-03,\n",
       "        -1.57795148e-03, -3.11239320e-03,  2.27059778e-02, -3.63273285e-02,\n",
       "        -2.32266840e-02,  3.96531634e-02, -1.75961927e-02,  7.61347730e-03,\n",
       "        -4.49805968e-02, -9.71957818e-02,  6.55074464e-03, -4.07040939e-02,\n",
       "        -4.23453860e-02,  2.21426673e-02, -1.69916786e-02,  9.62368697e-02,\n",
       "        -4.27953713e-02,  2.88663451e-02,  3.25763188e-02, -1.60413701e-02,\n",
       "        -2.20179148e-02, -4.18678969e-02, -6.52636364e-02, -2.43135225e-02,\n",
       "         3.35064307e-02, -2.17000041e-02,  4.89502922e-02, -3.22211497e-02,\n",
       "         5.66819571e-02,  3.94778363e-02, -6.04452528e-02, -8.55642185e-02,\n",
       "        -4.11012471e-02, -5.89900790e-03,  4.48789112e-02,  3.86384428e-02,\n",
       "         2.37330515e-02, -3.74444202e-03, -7.40818307e-03, -3.48128490e-02,\n",
       "        -1.26408236e-02, -8.32106993e-02, -7.77605502e-03,  8.23968148e-04,\n",
       "        -2.08235551e-02,  4.96372720e-03,  1.02757057e-02,  7.34597668e-02,\n",
       "         4.56727818e-02, -1.11290710e-02, -8.89176212e-04,  3.50867659e-02,\n",
       "        -5.21498732e-04,  3.29105891e-02,  3.92489955e-02,  9.39367432e-03,\n",
       "        -3.05088200e-02,  1.42533686e-02, -1.87762576e-04,  1.48091884e-02,\n",
       "         3.88667583e-02,  2.09766738e-02,  1.69475786e-02,  6.42409846e-02,\n",
       "         1.02789383e-02,  1.05284173e-02,  4.56123576e-02,  4.24703173e-02,\n",
       "         3.24788168e-02,  3.20181213e-02, -2.87148319e-02, -7.86704198e-03,\n",
       "         9.84600745e-03,  4.08064984e-02, -1.92639474e-02, -6.10291352e-03,\n",
       "         5.00562973e-02,  1.64056756e-02,  4.35196497e-02, -1.09658111e-02,\n",
       "         3.21553983e-02, -3.21289971e-02,  4.05228091e-03, -1.42192785e-02,\n",
       "        -1.72177460e-02, -2.24059615e-02,  3.41359712e-02,  1.79261249e-02,\n",
       "        -8.28825310e-03,  5.04023284e-02, -3.55288386e-02,  2.78953388e-02,\n",
       "         2.46793823e-03, -2.67911120e-03, -3.25404406e-02,  1.17414733e-02,\n",
       "        -2.00907737e-02,  4.24936898e-02,  3.08379587e-02,  1.66973658e-02,\n",
       "         3.07388082e-02, -4.58765216e-02, -5.39882341e-03,  1.92522611e-02,\n",
       "        -2.37640440e-02, -4.52495925e-02, -3.50062065e-02, -6.26832014e-03,\n",
       "        -3.49792205e-02,  6.37186170e-02, -4.95001599e-02, -8.27830806e-02,\n",
       "         2.43390212e-03, -7.25407824e-02,  5.77692613e-02, -3.55351567e-02,\n",
       "         1.10675464e-03,  7.00734905e-04, -2.26267856e-02,  1.01695638e-02,\n",
       "         1.71284936e-02, -1.74753759e-02, -3.18569429e-02, -6.42488077e-02,\n",
       "        -3.10206711e-02, -3.18854190e-02,  3.82461883e-02,  3.10538914e-02,\n",
       "        -2.99189892e-02,  1.83081981e-02, -5.88304810e-02, -2.38676444e-02,\n",
       "         3.73597927e-02,  2.49048825e-02, -6.08941764e-02, -8.83546844e-03,\n",
       "        -4.21162583e-02, -4.55484390e-02, -1.47924647e-02, -2.38329191e-02,\n",
       "        -4.74834349e-03, -4.89295572e-02, -1.93930455e-02, -4.01563048e-02,\n",
       "        -8.04098509e-03, -7.47550428e-02,  2.10533524e-03,  1.64750628e-02,\n",
       "         8.30394179e-02,  1.55175887e-02,  4.70302291e-02, -4.48356047e-02,\n",
       "         5.50825410e-02, -7.38567859e-02, -3.09090838e-02,  1.67554040e-02,\n",
       "         5.06773777e-02,  2.49253251e-02, -7.24062249e-02,  3.98998745e-02,\n",
       "         2.13709450e-03, -1.89518631e-02, -1.86337382e-02,  1.30079966e-02,\n",
       "         1.97984315e-02, -3.67520563e-02, -4.02528755e-02, -4.21337690e-03,\n",
       "        -1.62019245e-02, -3.34684993e-03,  4.09932733e-02, -2.45059915e-02,\n",
       "        -1.03826737e-02, -4.73151691e-02,  5.08268587e-02, -5.92375174e-03,\n",
       "        -3.16208141e-04, -6.27373252e-03,  1.60506535e-02,  1.63368601e-02,\n",
       "         2.72356216e-02,  2.05410607e-02,  2.15955339e-02, -1.16071282e-02,\n",
       "         1.46542350e-02, -5.12824915e-02,  1.70999728e-02, -6.01726510e-02,\n",
       "        -1.86471753e-02, -1.95506345e-02,  5.43011576e-02,  1.48305178e-01,\n",
       "         6.39534444e-02, -4.22869856e-03,  2.49036644e-02, -5.27663268e-02,\n",
       "         8.22672155e-03,  3.78340371e-02, -6.19608536e-03, -3.93906981e-02,\n",
       "         3.58749069e-02,  1.18881678e-02,  2.66932417e-02,  1.62877999e-02,\n",
       "         6.09422289e-02, -1.60511974e-02,  3.50134447e-04,  2.91721504e-02,\n",
       "        -7.17703532e-03, -2.95378417e-02,  6.30705506e-02,  5.02149947e-02,\n",
       "        -5.33038080e-02, -9.42940079e-03,  1.98485311e-02, -2.10123099e-02,\n",
       "         3.09328046e-02, -1.42165991e-02,  3.32838148e-02,  2.94383969e-02,\n",
       "         1.26156481e-02,  4.95138876e-02,  1.15884300e-02,  2.58325110e-03,\n",
       "         4.47752923e-02,  5.12728840e-02, -2.06902735e-02, -8.23467690e-03,\n",
       "        -7.23886583e-03,  1.32842530e-02, -5.08004650e-02,  7.57653862e-02,\n",
       "        -8.74614641e-02,  4.24297489e-02,  1.12237791e-02,  9.68638196e-05,\n",
       "        -4.58215289e-02, -1.55913560e-02,  2.53331531e-02, -5.37827658e-03,\n",
       "        -3.63501254e-04,  3.69623005e-02, -4.63642776e-02, -1.23741757e-03,\n",
       "         5.76702058e-02, -7.09539428e-02,  1.54587189e-02, -6.11975007e-02,\n",
       "        -1.10918976e-01, -3.09238955e-03,  2.27635317e-02, -4.78636467e-33,\n",
       "         3.12271286e-02, -6.63603544e-02, -2.36832444e-02,  2.42751427e-02,\n",
       "        -2.04059505e-03, -4.47731698e-03,  4.22922568e-03, -4.12169565e-03,\n",
       "        -3.53074670e-02, -2.23746803e-02,  1.80853680e-02, -3.13038030e-03,\n",
       "         3.27593237e-02,  4.38900432e-03,  6.06583506e-02,  1.11367665e-02,\n",
       "         2.70507857e-02, -7.78140174e-03, -6.00759126e-03, -2.07057167e-02,\n",
       "        -3.77762280e-02, -9.80799831e-03,  4.01680283e-02,  3.02955136e-02,\n",
       "         5.43257482e-02, -9.85897630e-02, -2.94538680e-03,  2.91571971e-02,\n",
       "         3.44494432e-02, -8.56006052e-03, -7.64996707e-02,  2.67000054e-03,\n",
       "         2.50923187e-02,  3.52500081e-02,  5.67993559e-02,  2.29065288e-02,\n",
       "         5.05906045e-02, -4.30480987e-02,  3.37688439e-02,  9.36796423e-03,\n",
       "         1.14865405e-02, -5.23018800e-02, -1.63466744e-02, -1.74134839e-02,\n",
       "        -8.20874775e-05,  6.74259849e-03, -3.11616883e-02,  3.66181843e-02,\n",
       "        -3.53261344e-02,  1.54254995e-02,  6.49726987e-02,  1.90679282e-02,\n",
       "        -2.05425825e-02, -1.29935900e-02,  3.07242014e-02,  3.60370427e-02,\n",
       "        -7.30985496e-03, -3.42610106e-02,  3.69405374e-02, -1.68614965e-02,\n",
       "        -6.95913807e-02, -3.51376943e-02, -1.96794942e-02, -2.16357894e-02,\n",
       "        -1.91741418e-02, -7.22266268e-03, -9.27114952e-03,  3.80431600e-02,\n",
       "        -7.26440549e-02, -3.93157937e-02,  3.23953805e-04, -1.54595356e-02,\n",
       "        -5.66323362e-02, -2.86029950e-02, -3.38706970e-02, -8.40220228e-03,\n",
       "         3.27711739e-02, -1.23575330e-02,  5.67503609e-02,  1.07323565e-01,\n",
       "         1.62488595e-03,  1.98507458e-02, -4.92325723e-02,  4.31428570e-03,\n",
       "        -2.76764091e-02, -3.61421816e-02,  2.83704679e-02, -3.32536660e-02,\n",
       "         6.01911023e-02,  7.16077164e-03, -3.21194977e-02,  1.00305676e-01,\n",
       "         2.48312969e-02,  3.09538729e-02, -1.87184953e-03, -1.96664482e-02,\n",
       "         2.54116915e-02,  2.17061993e-02, -1.50588425e-02,  9.16998554e-03,\n",
       "         3.92971607e-03,  5.89960180e-02, -3.26567478e-02, -7.23023266e-02,\n",
       "         4.42397147e-02, -8.09971057e-03,  3.66033390e-02, -6.47039386e-03,\n",
       "        -5.15290163e-02,  5.74738309e-02,  3.27605158e-02, -3.47869657e-02,\n",
       "         1.15356478e-03, -5.10835834e-02, -2.02762033e-03, -1.37376301e-02,\n",
       "        -2.26377207e-03, -1.46536082e-02,  2.56581083e-02, -3.41949835e-02,\n",
       "         3.11359651e-02,  1.11530442e-02, -2.26283353e-02, -1.86062214e-04,\n",
       "        -3.42383087e-02, -3.47209931e-03,  7.12009938e-03,  2.85437871e-02,\n",
       "         3.43614332e-02,  4.17478420e-02,  1.46220326e-02, -1.00901416e-02,\n",
       "         2.19874835e-07,  1.26003753e-04, -3.26404907e-02,  2.73180269e-02,\n",
       "        -4.31561656e-02,  6.41150540e-03,  3.25418101e-03,  2.88384082e-03,\n",
       "         1.68630499e-02, -3.92213603e-03, -3.99216600e-02, -2.82339528e-02,\n",
       "         6.63926499e-03,  9.65186954e-03, -6.46882458e-04,  8.58047828e-02,\n",
       "        -5.46624996e-02,  9.56461504e-02, -3.35840583e-02, -3.86988744e-02,\n",
       "         1.08061070e-02,  8.10266286e-02,  4.47357865e-03,  5.54964505e-02,\n",
       "         2.06635371e-02, -1.76943354e-02, -7.89711699e-02, -9.13332403e-03,\n",
       "        -5.91489598e-02, -1.78458355e-02, -2.83569973e-02,  2.71814764e-02,\n",
       "         2.92244665e-02, -4.04384062e-02, -2.55331807e-02,  1.53779080e-02,\n",
       "         1.23813264e-02,  2.65147332e-02,  4.36860286e-02,  7.80087039e-02,\n",
       "         1.78201627e-02, -3.01126149e-02,  1.06307538e-02, -5.10762222e-02,\n",
       "        -1.62147973e-02,  2.78101396e-02,  5.96088059e-02, -1.07441945e-02,\n",
       "         5.74155264e-02, -4.65736873e-02,  4.81003942e-03,  3.75612862e-02,\n",
       "        -2.49797646e-02,  1.24980872e-02,  3.64437625e-02, -1.03774918e-02,\n",
       "         3.94603722e-02,  5.78910373e-02, -5.18748611e-02, -1.85876898e-02,\n",
       "        -3.52988951e-03, -2.97394581e-02,  4.59078252e-02,  1.81120459e-03,\n",
       "         8.85511748e-03,  5.07805757e-02,  4.10652719e-03,  5.75004704e-03,\n",
       "         1.64168657e-34, -4.68511507e-03, -6.60455041e-03,  2.19718516e-02,\n",
       "        -4.97994609e-02,  2.23751999e-02,  8.27597105e-04,  6.58981800e-02,\n",
       "        -3.05624455e-02,  8.99444055e-03, -3.16482000e-02, -3.01022846e-02],\n",
       "       dtype=float32)}"
      ]
     },
     "execution_count": 21,
     "metadata": {},
     "output_type": "execute_result"
    }
   ],
   "source": [
    "record_list = df.to_dict(\"records\")\n",
    "record_list[0]"
   ]
  },
  {
   "cell_type": "code",
   "execution_count": 22,
   "metadata": {},
   "outputs": [],
   "source": [
    "for record in record_list:\n",
    "    try:\n",
    "        es.index(index=\"all_products_2\", document=record, id=record[\"ProductID\"])\n",
    "    except Exception as e:\n",
    "        print(e)"
   ]
  },
  {
   "cell_type": "code",
   "execution_count": 24,
   "metadata": {},
   "outputs": [
    {
     "data": {
      "text/plain": [
       "ObjectApiResponse({'count': 500, '_shards': {'total': 1, 'successful': 1, 'skipped': 0, 'failed': 0}})"
      ]
     },
     "execution_count": 24,
     "metadata": {},
     "output_type": "execute_result"
    }
   ],
   "source": [
    "es.count(index=\"all_products_2\")"
   ]
  },
  {
   "cell_type": "markdown",
   "metadata": {},
   "source": [
    "# 4. Search the data"
   ]
  },
  {
   "cell_type": "code",
   "execution_count": 25,
   "metadata": {},
   "outputs": [
    {
     "name": "stderr",
     "output_type": "stream",
     "text": [
      "C:\\Users\\Abhishek_Jaiswal\\AppData\\Local\\Temp\\ipykernel_19832\\3672793080.py:11: ElasticsearchWarning: The kNN search API has been replaced by the `knn` option in the search API.\n",
      "  res = es.knn_search(index=\"all_products_2\", knn=query , source=[\"ProductName\",\"Description\"])\n"
     ]
    },
    {
     "data": {
      "text/plain": [
       "[{'_index': 'all_products_2',\n",
       "  '_id': '10018013',\n",
       "  '_score': 0.6142942,\n",
       "  '_source': {'ProductName': 'Puma Men Blue Sneakers',\n",
       "   'Description': 'A pair of round-toe blue sneakers, has regular styling, lace-up detailTextile upperCushioned footbedTextured and patterned outsoleWarranty: 3 monthsWarranty provided by brand/manufacturer'}},\n",
       " {'_index': 'all_products_2',\n",
       "  '_id': '10018075',\n",
       "  '_score': 0.6142942,\n",
       "  '_source': {'ProductName': 'Puma Men Blue Sneakers',\n",
       "   'Description': 'A pair of round-toe blue sneakers, has regular styling, lace-up detailTextile upperCushioned footbedTextured and patterned outsoleWarranty: 3 monthsWarranty provided by brand/manufacturer'}}]"
      ]
     },
     "execution_count": 25,
     "metadata": {},
     "output_type": "execute_result"
    }
   ],
   "source": [
    "input_keyword = \"Blue Shoes\"\n",
    "vector_of_input_keyword = model.encode(input_keyword)\n",
    "\n",
    "query = {\n",
    "    \"field\" : \"DescriptionVector\",\n",
    "    \"query_vector\" : vector_of_input_keyword,\n",
    "    \"k\" : 2,\n",
    "    \"num_candidates\" : 500, \n",
    "}\n",
    "\n",
    "res = es.knn_search(index=\"all_products_2\", knn=query , source=[\"ProductName\",\"Description\"])\n",
    "res[\"hits\"][\"hits\"]"
   ]
  },
  {
   "cell_type": "markdown",
   "metadata": {},
   "source": [
    "# Semantic Caching"
   ]
  },
  {
   "cell_type": "markdown",
   "metadata": {},
   "source": [
    "### Overview of Semantic Cache\r\n",
    "\r\n",
    "**Semantic caching** is a caching strategy that involves storing the results of previously computed queries along with their associated data (often in the form of embeddings). It utilizes the semantic similarity between queries to improve retrieval efficiency. Instead of recomputing results for every query, a semantic cache allows for quick access to cached responses that are semantically similar to the current query.\r\n",
    "\r\n",
    "#### Key Components:\r\n",
    "\r\n",
    "1. **Embeddings**: \r\n",
    "   - Queries and their responses are converted into high-dimensional vectors (embeddings) using models like Sentence Transformers. This allows for the measurement of similarity between different queries based on their content.\r\n",
    "\r\n",
    "2. **Indexing**: \r\n",
    "   - Cached responses are indexed in a database (e.g., Elasticsearch) along with their embeddings, making it easy to retrieve them based on similarity scores.\r\n",
    "\r\n",
    "3. **Retrieval Mechanism**: \r\n",
    "   - When a new query is received, its embedding is computed, and a search is performed against the cached embeddings. The most similar cached responses are retrieved based on a similarity measure (e.g., cosine similarity).\r\n",
    "\r\n",
    "### Advantages of Semantic Cache\r\n",
    "\r\n",
    "1. **Improved Efficiency**:\r\n",
    "   - Reduces the need for repeated computation by quickly returning cached responses for semantically similar queries, significantly speeding up response times.\r\n",
    "\r\n",
    "2. **Reduced Latency**:\r\n",
    "   - As the time taken to retrieve a cached response is generally lower than generating a fresh response, this leads to lower latency, especially in high-demand applications.\r\n",
    "\r\n",
    "3. **Resource Optimization**:\r\n",
    "   - By avoiding redundant computations, semantic caching helps in optimizing resource utilization, such as CPU and memory usage, which is particularly beneficial in cloud-based environments.\r\n",
    "\r\n",
    "4. **Enhanced User Experience**:\r\n",
    "   - Users receive responses faster, improving the overall experience, especially in applications like chatbots, customer support, and information retrieval systems.\r\n",
    "\r\n",
    "5. **Flexibility with Fresh Data**:\r\n",
    "   - While cached responses are often used, the system can still generate fresh responses when necessary. This allows it to balance between using cached data and accessing the latest information.\r\n",
    "\r\n",
    "6. **Scalability**:\r\n",
    "   - Semantic caching can be easily scaled. As more queries are processed and more responses are cached, the system can handle larger volumes of queries efficiently.\r\n",
    "\r\n",
    "7. **Dynamic Adaptation**:\r\n",
    "   - As user queries evolve, the semantic cache can adapt by learning from new queries and responses, continuously improving its effectiveness.\r\n",
    "\r\n",
    "### Use Cases\r\n",
    "\r\n",
    "- **Natural Language Processing (NLP)**: For chatbots and virtual assistants to quickly answer frequently asked questions.\r\n",
    "- **Search Engines**: To speed up responses to common search queries by caching results.\r\n",
    "- **Recommendation Systems**: To provide quick recommendations based on previously stored preferences or similar user behaviors.\r\n",
    "- **Knowledge Management Systems**: For quickly retrieving information based on user inquiries in corporate environments.\r\n",
    "\r\n",
    "In summary, semantic caching provides a sophisticated method for improving the efficiency and responsiveness of systems that require rapid access to information. Its ability to leverage the semantic relationships between queries and responses makes it a powerful tool in modern data-driven applications."
   ]
  },
  {
   "cell_type": "markdown",
   "metadata": {},
   "source": [
    "# 1. Create and Save Dataset"
   ]
  },
  {
   "cell_type": "code",
   "execution_count": 48,
   "metadata": {},
   "outputs": [
    {
     "name": "stdout",
     "output_type": "stream",
     "text": [
      "Dataset saved to query_response_dataset.csv\n"
     ]
    }
   ],
   "source": [
    "import pandas as pd\n",
    "\n",
    "# Step 1: Create a dataset with 20 examples and save it to a CSV file\n",
    "def create_and_save_dataset(file_path):\n",
    "    data = {\n",
    "        'query': [\n",
    "            \"What is the capital of France?\",\n",
    "            \"What is the largest planet in our solar system?\",\n",
    "            \"How many continents are there?\",\n",
    "            \"What is the boiling point of water?\",\n",
    "            \"Who wrote 'To Kill a Mockingbird'?\",\n",
    "            \"What is the currency of Japan?\",\n",
    "            \"Who painted the Mona Lisa?\",\n",
    "            \"What is the tallest mountain in the world?\",\n",
    "            \"How many bones are in the human body?\",\n",
    "            \"What is the chemical symbol for gold?\",\n",
    "            \"What year did the Titanic sink?\",\n",
    "            \"Who is known as the father of modern physics?\",\n",
    "            \"What is the fastest land animal?\",\n",
    "            \"What is the square root of 64?\",\n",
    "            \"Who discovered penicillin?\",\n",
    "            \"What is the capital of Australia?\",\n",
    "            \"What is the largest ocean on Earth?\",\n",
    "            \"Who was the first president of the United States?\",\n",
    "            \"What is the speed of light?\",\n",
    "            \"What is the main language spoken in Brazil?\"\n",
    "        ],\n",
    "        'response': [\n",
    "            \"The capital of France is Paris.\",\n",
    "            \"The largest planet in our solar system is Jupiter.\",\n",
    "            \"There are seven continents.\",\n",
    "            \"The boiling point of water is 100 degrees Celsius.\",\n",
    "            \"Harper Lee wrote 'To Kill a Mockingbird'.\",\n",
    "            \"The currency of Japan is the Yen.\",\n",
    "            \"Leonardo da Vinci painted the Mona Lisa.\",\n",
    "            \"The tallest mountain in the world is Mount Everest.\",\n",
    "            \"There are 206 bones in the human body.\",\n",
    "            \"The chemical symbol for gold is Au.\",\n",
    "            \"The Titanic sank in 1912.\",\n",
    "            \"Albert Einstein is known as the father of modern physics.\",\n",
    "            \"The fastest land animal is the cheetah.\",\n",
    "            \"The square root of 64 is 8.\",\n",
    "            \"Alexander Fleming discovered penicillin.\",\n",
    "            \"The capital of Australia is Canberra.\",\n",
    "            \"The largest ocean on Earth is the Pacific Ocean.\",\n",
    "            \"George Washington was the first president of the United States.\",\n",
    "            \"The speed of light is approximately 299,792 kilometers per second.\",\n",
    "            \"The main language spoken in Brazil is Portuguese.\"\n",
    "        ]\n",
    "    }\n",
    "    \n",
    "    df = pd.DataFrame(data)\n",
    "    df.to_csv(file_path, index=False)\n",
    "    print(f\"Dataset saved to {file_path}\")\n",
    "\n",
    "# Example usage\n",
    "dataset_path = 'query_response_dataset.csv'\n",
    "create_and_save_dataset(dataset_path)"
   ]
  },
  {
   "cell_type": "markdown",
   "metadata": {},
   "source": [
    "# 2. Connect to Elasticsearch"
   ]
  },
  {
   "cell_type": "code",
   "execution_count": 49,
   "metadata": {},
   "outputs": [
    {
     "name": "stdout",
     "output_type": "stream",
     "text": [
      "Connected to Elasticsearch.\n"
     ]
    }
   ],
   "source": [
    "from elasticsearch import Elasticsearch\n",
    "\n",
    "# Step 2: Connect to Elasticsearch\n",
    "def connect_to_elasticsearch():\n",
    "    es = Elasticsearch(\n",
    "        \"https://localhost:9200\",\n",
    "        basic_auth=(\"elastic\", \"vfkWRFChlFKFBDPz*0y8\"),\n",
    "        ca_certs=\"C:/Users/Abhishek_Jaiswal/Downloads/elasticsearch-8.13.4/config/certs/http_ca.crt\"\n",
    "    )\n",
    "    if es.ping():\n",
    "        print(\"Connected to Elasticsearch.\")\n",
    "    else:\n",
    "        raise ConnectionError(\"Could not connect to Elasticsearch.\")\n",
    "    return es\n",
    "\n",
    "# Example usage\n",
    "es = connect_to_elasticsearch()"
   ]
  },
  {
   "cell_type": "markdown",
   "metadata": {},
   "source": [
    "# 3. Create an Index in Elasticsearch"
   ]
  },
  {
   "cell_type": "code",
   "execution_count": 51,
   "metadata": {},
   "outputs": [
    {
     "name": "stderr",
     "output_type": "stream",
     "text": [
      "C:\\Users\\Abhishek_Jaiswal\\AppData\\Local\\Temp\\ipykernel_19832\\3250227610.py:3: DeprecationWarning: Passing transport options in the API method is deprecated. Use 'Elasticsearch.options()' instead.\n",
      "  es.indices.create(index=index_name, ignore=400)  # Ignore if index already exists\n"
     ]
    },
    {
     "name": "stdout",
     "output_type": "stream",
     "text": [
      "Index 'semantic_cache_2' created or already exists.\n"
     ]
    }
   ],
   "source": [
    "# Step 3: Create an index in Elasticsearch\n",
    "def create_index(es, index_name):\n",
    "    es.indices.create(index=index_name, ignore=400)  # Ignore if index already exists\n",
    "    print(f\"Index '{index_name}' created or already exists.\")\n",
    "\n",
    "# Example usage\n",
    "index_name = 'semantic_cache_2'\n",
    "create_index(es, index_name)"
   ]
  },
  {
   "cell_type": "markdown",
   "metadata": {},
   "source": [
    "# 4. Load the Sentence Transformer Model"
   ]
  },
  {
   "cell_type": "code",
   "execution_count": 52,
   "metadata": {},
   "outputs": [],
   "source": [
    "from sentence_transformers import SentenceTransformer\n",
    "\n",
    "# Step 4: Load the Sentence Transformer model\n",
    "def load_model(model_name='all-MiniLM-L6-v2'):\n",
    "    return SentenceTransformer(model_name)\n",
    "\n",
    "# Example usage\n",
    "model = load_model()"
   ]
  },
  {
   "cell_type": "markdown",
   "metadata": {},
   "source": [
    "# 5. Store Query-Response Pairs in Elasticsearch"
   ]
  },
  {
   "cell_type": "code",
   "execution_count": 53,
   "metadata": {},
   "outputs": [
    {
     "name": "stdout",
     "output_type": "stream",
     "text": [
      "Stored query-response pair: 'What is the capital of France?' -> 'The capital of France is Paris.'\n",
      "Stored query-response pair: 'What is the largest planet in our solar system?' -> 'The largest planet in our solar system is Jupiter.'\n",
      "Stored query-response pair: 'How many continents are there?' -> 'There are seven continents.'\n",
      "Stored query-response pair: 'What is the boiling point of water?' -> 'The boiling point of water is 100 degrees Celsius.'\n",
      "Stored query-response pair: 'Who wrote 'To Kill a Mockingbird'?' -> 'Harper Lee wrote 'To Kill a Mockingbird'.'\n",
      "Stored query-response pair: 'What is the currency of Japan?' -> 'The currency of Japan is the Yen.'\n",
      "Stored query-response pair: 'Who painted the Mona Lisa?' -> 'Leonardo da Vinci painted the Mona Lisa.'\n",
      "Stored query-response pair: 'What is the tallest mountain in the world?' -> 'The tallest mountain in the world is Mount Everest.'\n",
      "Stored query-response pair: 'How many bones are in the human body?' -> 'There are 206 bones in the human body.'\n",
      "Stored query-response pair: 'What is the chemical symbol for gold?' -> 'The chemical symbol for gold is Au.'\n",
      "Stored query-response pair: 'What year did the Titanic sink?' -> 'The Titanic sank in 1912.'\n",
      "Stored query-response pair: 'Who is known as the father of modern physics?' -> 'Albert Einstein is known as the father of modern physics.'\n",
      "Stored query-response pair: 'What is the fastest land animal?' -> 'The fastest land animal is the cheetah.'\n",
      "Stored query-response pair: 'What is the square root of 64?' -> 'The square root of 64 is 8.'\n",
      "Stored query-response pair: 'Who discovered penicillin?' -> 'Alexander Fleming discovered penicillin.'\n",
      "Stored query-response pair: 'What is the capital of Australia?' -> 'The capital of Australia is Canberra.'\n",
      "Stored query-response pair: 'What is the largest ocean on Earth?' -> 'The largest ocean on Earth is the Pacific Ocean.'\n",
      "Stored query-response pair: 'Who was the first president of the United States?' -> 'George Washington was the first president of the United States.'\n",
      "Stored query-response pair: 'What is the speed of light?' -> 'The speed of light is approximately 299,792 kilometers per second.'\n",
      "Stored query-response pair: 'What is the main language spoken in Brazil?' -> 'The main language spoken in Brazil is Portuguese.'\n"
     ]
    }
   ],
   "source": [
    "# Step 5: Store query-response pairs in Elasticsearch\n",
    "def store_query_response(es, model, index_name, query, response):\n",
    "    query_embedding = model.encode(query).tolist()  # Convert to list for JSON serialization\n",
    "    doc = {\n",
    "        'query': query,\n",
    "        'response': response,\n",
    "        'embedding': query_embedding\n",
    "    }\n",
    "    es.index(index=index_name, document=doc)\n",
    "    print(f\"Stored query-response pair: '{query}' -> '{response}'\")\n",
    "\n",
    "# Example usage for storing initial dataset (this can be done in the main execution)\n",
    "import pandas as pd\n",
    "\n",
    "# Read the dataset and store it in Elasticsearch\n",
    "df = pd.read_csv(dataset_path)\n",
    "for _, row in df.iterrows():\n",
    "    store_query_response(es, model, index_name, row['query'], row['response'])"
   ]
  },
  {
   "cell_type": "markdown",
   "metadata": {},
   "source": [
    "# 6. Retrieve Response from Elasticsearch"
   ]
  },
  {
   "cell_type": "code",
   "execution_count": 54,
   "metadata": {},
   "outputs": [
    {
     "name": "stdout",
     "output_type": "stream",
     "text": [
      "Retrieved Response: The fastest land animal is the cheetah.\n"
     ]
    }
   ],
   "source": [
    "# Step 6: Retrieve response from Elasticsearch\n",
    "def retrieve_response(es, model, index_name, query):\n",
    "    query_embedding = model.encode(query).tolist()\n",
    "    search_query = {\n",
    "        \"script_score\": {\n",
    "            \"query\": {\n",
    "                \"match_all\": {}\n",
    "            },\n",
    "            \"script\": {\n",
    "                \"source\": \"cosineSimilarity(params.query_vector, 'embedding') + 1.0\",\n",
    "                \"params\": {\n",
    "                    \"query_vector\": query_embedding\n",
    "                }\n",
    "            }\n",
    "        }\n",
    "    }\n",
    "    response = es.search(index=index_name, query=search_query, size=1)  # Limit to the top match\n",
    "    if response['hits']['hits']:\n",
    "        return response['hits']['hits'][0]['_source']['response']\n",
    "    else:\n",
    "        return None\n",
    "\n",
    "# Example usage\n",
    "response = retrieve_response(es, model, index_name, \"What is the fastest land animal?\")\n",
    "print(\"Retrieved Response:\", response)"
   ]
  },
  {
   "cell_type": "markdown",
   "metadata": {},
   "source": [
    "# 7. Process the Query"
   ]
  },
  {
   "cell_type": "code",
   "execution_count": 55,
   "metadata": {},
   "outputs": [
    {
     "name": "stdout",
     "output_type": "stream",
     "text": [
      "Processed Query Response: The capital of France is Paris.\n"
     ]
    }
   ],
   "source": [
    "# Step 7: Process the query\n",
    "def process_query(es, model, index_name, query):\n",
    "    cached_response = retrieve_response(es, model, index_name, query)\n",
    "    if cached_response:\n",
    "        return cached_response\n",
    "    else:\n",
    "        fresh_response = f\"Fresh response generated for: {query}\"  # Placeholder logic for generating a fresh response\n",
    "        store_query_response(es, model, index_name, query, fresh_response)\n",
    "        return fresh_response\n",
    "\n",
    "# Example usage\n",
    "result = process_query(es, model, index_name, \"What is the capital city of France?\")\n",
    "print(\"Processed Query Response:\", result)"
   ]
  },
  {
   "cell_type": "code",
   "execution_count": null,
   "metadata": {},
   "outputs": [],
   "source": []
  }
 ],
 "metadata": {
  "kernelspec": {
   "display_name": "Python 3 (ipykernel)",
   "language": "python",
   "name": "python3"
  },
  "language_info": {
   "codemirror_mode": {
    "name": "ipython",
    "version": 3
   },
   "file_extension": ".py",
   "mimetype": "text/x-python",
   "name": "python",
   "nbconvert_exporter": "python",
   "pygments_lexer": "ipython3",
   "version": "3.11.4"
  }
 },
 "nbformat": 4,
 "nbformat_minor": 4
}
